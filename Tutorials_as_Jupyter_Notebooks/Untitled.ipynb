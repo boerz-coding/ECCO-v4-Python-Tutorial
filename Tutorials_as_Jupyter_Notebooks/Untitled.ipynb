{
 "cells": [
  {
   "cell_type": "code",
   "execution_count": 2,
   "id": "98ec0241",
   "metadata": {},
   "outputs": [],
   "source": [
    "import glob\n",
    "import numpy as np\n",
    "import os\n",
    "from netCDF4 import Dataset\n",
    "\n",
    "import requests\n",
    "from os.path import join,expanduser,exists,split\n",
    "import xarray as xr\n",
    "import cartopy as cart\n",
    "import sys"
   ]
  },
  {
   "cell_type": "code",
   "execution_count": 3,
   "id": "2cb9b36c",
   "metadata": {},
   "outputs": [],
   "source": [
    "user_home_dir = expanduser('~')\n",
    "sys.path.append(join(user_home_dir,'ECCOv4-py'))\n",
    "import ecco_v4_py as ecco"
   ]
  },
  {
   "cell_type": "code",
   "execution_count": 5,
   "id": "65895d62",
   "metadata": {},
   "outputs": [
    {
     "ename": "NameError",
     "evalue": "name 'maskC' is not defined",
     "output_type": "error",
     "traceback": [
      "\u001b[0;31m---------------------------------------------------------------------------\u001b[0m",
      "\u001b[0;31mNameError\u001b[0m                                 Traceback (most recent call last)",
      "Input \u001b[0;32mIn [5]\u001b[0m, in \u001b[0;36m<cell line: 1>\u001b[0;34m()\u001b[0m\n\u001b[0;32m----> 1\u001b[0m atl_maskW \u001b[38;5;241m=\u001b[39m ecco\u001b[38;5;241m.\u001b[39mget_basin_mask(basin_name\u001b[38;5;241m=\u001b[39m\u001b[38;5;124m'\u001b[39m\u001b[38;5;124matlExt\u001b[39m\u001b[38;5;124m'\u001b[39m,mask\u001b[38;5;241m=\u001b[39m\u001b[43mmaskC\u001b[49m\u001b[38;5;241m.\u001b[39misel(k\u001b[38;5;241m=\u001b[39m\u001b[38;5;241m0\u001b[39m))\n",
      "\u001b[0;31mNameError\u001b[0m: name 'maskC' is not defined"
     ]
    }
   ],
   "source": [
    "atl_maskW = ecco.get_basin_mask(basin_name='atlExt',mask=maskW.isel(k=0))"
   ]
  },
  {
   "cell_type": "code",
   "execution_count": 7,
   "id": "1736caec",
   "metadata": {},
   "outputs": [],
   "source": [
    "try:\n",
    "    atl_maskW = ecco.get_basin_mask(basin_name='atlExt',mask=maskW.isel(k=0))\n",
    "    atl_maskS = ecco.get_basin_mask(basin_name='atlExt',mask=maskS.isel(k=0))\n",
    "except:\n",
    "    # depending on how ecco_v4_py is downloaded/installed, \n",
    "    # the basin mask file may not be in the location expected by ecco_v4_py.\n",
    "    # This will download the file from the ECCOv4-py GitHub online.\n",
    "    basin_path = join(user_home_dir,'ECCOv4-py','binary_data')\n",
    "    if exists(join(basin_path,'basins.data')) == False:\n",
    "        import requests\n",
    "        url_basin_mask = \"https://github.com/ECCO-GROUP/ECCOv4-py/raw/master/binary_data/basins.data\"\n",
    "        source_file = requests.get(url_basin_mask, allow_redirects=True)\n",
    "        if exists(basin_path) == False:\n",
    "            os.makedirs(basin_path)\n",
    "        target_file = open(join(basin_path,'basins.data'),'wb')\n",
    "        target_file.write(source_file.content)\n",
    "#     atl_maskW = ecco.get_basin_mask(basin_name='atlExt',mask=maskW.isel(k=0),\\\n",
    "#                                     basin_path=basin_path)\n",
    "#     atl_maskS = ecco.get_basin_mask(basin_name='atlExt',mask=maskS.isel(k=0),\\\n",
    "#                                     basin_path=basin_path)"
   ]
  },
  {
   "cell_type": "code",
   "execution_count": 8,
   "id": "06529346",
   "metadata": {},
   "outputs": [
    {
     "name": "stdout",
     "output_type": "stream",
     "text": [
      "Help on function get_basin_mask in module ecco_v4_py.get_basin:\n",
      "\n",
      "get_basin_mask(basin_name, mask, basin_path='/Users/boerzhang/opt/anaconda3/envs/py39/lib/python3.9/site-packages/ecco_v4_py/../binary_data', less_output=False)\n",
      "    Return mask for ocean basin.\n",
      "    Note: This mirrors gcmfaces/ecco_v4/v4_basin.m\n",
      "    And this only works for the global LLC90 domain\n",
      "    \n",
      "    Parameters\n",
      "    ----------\n",
      "    basin_name : string or list\n",
      "        name of basin to include, options are any of the following\n",
      "    \n",
      "        atlExt - atl, mexico, hudson, med, north, baffin, gin\n",
      "        pacExt - pac, bering, okhotsk, japan, eastChina\n",
      "        indExt - ind, southChina, java, timor, red, gulf\n",
      "        arct, barents\n",
      "    \n",
      "    mask : xarray DataArray\n",
      "        2D or 3D mask for open ocean\n",
      "        Note: can be at centers, west, or south face\n",
      "    \n",
      "    basin_path : string, default : '../binary_data'\n",
      "        name of the directory that contains 'basins.data' and 'basins.meta'\n",
      "    \n",
      "        If you don't have basins.data or basins.meta in your 'binary_data' directory\n",
      "        you can download them from:\n",
      "            https://github.com/ECCO-GROUP/ECCOv4-py/tree/master/binary_data\n",
      "        or\n",
      "            https://figshare.com/articles/Binary_files_for_the_ecco-v4-py_Python_package_/9932162\n",
      "    \n",
      "    Returns\n",
      "    -------\n",
      "    basin_mask : xarray DataArray\n",
      "        mask with values at cell centers, 1's for denoted ocean basin\n",
      "        dimensions are the same as input field\n",
      "\n"
     ]
    }
   ],
   "source": [
    "help(ecco.get_basin_mask)"
   ]
  },
  {
   "cell_type": "code",
   "execution_count": 10,
   "id": "d5e2345e",
   "metadata": {},
   "outputs": [
    {
     "data": {
      "text/plain": [
       "'/Users/boerzhang/ECCOv4-py/binary_data'"
      ]
     },
     "execution_count": 10,
     "metadata": {},
     "output_type": "execute_result"
    }
   ],
   "source": [
    "basin_path"
   ]
  },
  {
   "cell_type": "code",
   "execution_count": 12,
   "id": "322b6cf3",
   "metadata": {},
   "outputs": [
    {
     "ename": "NameError",
     "evalue": "name 'maskW' is not defined",
     "output_type": "error",
     "traceback": [
      "\u001b[0;31m---------------------------------------------------------------------------\u001b[0m",
      "\u001b[0;31mNameError\u001b[0m                                 Traceback (most recent call last)",
      "Input \u001b[0;32mIn [12]\u001b[0m, in \u001b[0;36m<cell line: 1>\u001b[0;34m()\u001b[0m\n\u001b[0;32m----> 1\u001b[0m atl_maskW \u001b[38;5;241m=\u001b[39m ecco\u001b[38;5;241m.\u001b[39mget_basin_mask(basin_name\u001b[38;5;241m=\u001b[39m\u001b[38;5;124m'\u001b[39m\u001b[38;5;124matlExt\u001b[39m\u001b[38;5;124m'\u001b[39m,mask\u001b[38;5;241m=\u001b[39m\u001b[43mmaskW\u001b[49m\u001b[38;5;241m.\u001b[39misel(k\u001b[38;5;241m=\u001b[39m\u001b[38;5;241m0\u001b[39m),basin_path\u001b[38;5;241m=\u001b[39mbasin_path)\n",
      "\u001b[0;31mNameError\u001b[0m: name 'maskW' is not defined"
     ]
    }
   ],
   "source": [
    "atl_maskW = ecco.get_basin_mask(basin_name='atlExt',mask=maskW.isel(k=0),basin_path=basin_path)\n",
    "#atl_maskS = ecco.get_basin_mask(basin_name='atlExt',mask=maskS.isel(k=0),basin_path=basin_path)"
   ]
  },
  {
   "cell_type": "code",
   "execution_count": null,
   "id": "2ea8ea35",
   "metadata": {},
   "outputs": [],
   "source": []
  }
 ],
 "metadata": {
  "kernelspec": {
   "display_name": "py39",
   "language": "python",
   "name": "py39"
  },
  "language_info": {
   "codemirror_mode": {
    "name": "ipython",
    "version": 3
   },
   "file_extension": ".py",
   "mimetype": "text/x-python",
   "name": "python",
   "nbconvert_exporter": "python",
   "pygments_lexer": "ipython3",
   "version": "3.9.13"
  },
  "varInspector": {
   "cols": {
    "lenName": 16,
    "lenType": 16,
    "lenVar": 40
   },
   "kernels_config": {
    "python": {
     "delete_cmd_postfix": "",
     "delete_cmd_prefix": "del ",
     "library": "var_list.py",
     "varRefreshCmd": "print(var_dic_list())"
    },
    "r": {
     "delete_cmd_postfix": ") ",
     "delete_cmd_prefix": "rm(",
     "library": "var_list.r",
     "varRefreshCmd": "cat(var_dic_list()) "
    }
   },
   "types_to_exclude": [
    "module",
    "function",
    "builtin_function_or_method",
    "instance",
    "_Feature"
   ],
   "window_display": false
  }
 },
 "nbformat": 4,
 "nbformat_minor": 5
}
