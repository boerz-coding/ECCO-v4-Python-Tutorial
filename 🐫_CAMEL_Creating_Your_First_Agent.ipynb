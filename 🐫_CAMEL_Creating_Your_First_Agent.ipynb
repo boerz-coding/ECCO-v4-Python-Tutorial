{
  "nbformat": 4,
  "nbformat_minor": 0,
  "metadata": {
    "colab": {
      "provenance": [],
      "include_colab_link": true
    },
    "kernelspec": {
      "name": "python3",
      "display_name": "Python 3"
    },
    "language_info": {
      "name": "python"
    }
  },
  "cells": [
    {
      "cell_type": "markdown",
      "metadata": {
        "id": "view-in-github",
        "colab_type": "text"
      },
      "source": [
        "<a href=\"https://colab.research.google.com/github/boerz-coding/ECCO-v4-Python-Tutorial/blob/master/%F0%9F%90%AB_CAMEL_Creating_Your_First_Agent.ipynb\" target=\"_parent\"><img src=\"https://colab.research.google.com/assets/colab-badge.svg\" alt=\"Open In Colab\"/></a>"
      ]
    },
    {
      "cell_type": "markdown",
      "source": [
        "# Creating Your First Agent"
      ],
      "metadata": {
        "id": "NoHg3eq7fyWV"
      }
    },
    {
      "cell_type": "markdown",
      "metadata": {
        "id": "MusY9BwU5MPO"
      },
      "source": [
        "You can also check this cookbook in colab [here](https://colab.research.google.com/drive/1yxnAyaEmk4QCzX3duO3MIRghkIA_KDEZ?usp=sharing)."
      ]
    },
    {
      "cell_type": "markdown",
      "source": [
        "## Philosophical Bits\n",
        "\n",
        "\n",
        "\n",
        "The `ChatAgent()` class is a cornerstone of CAMEL 🐫. We design our agent with the spirit to answer the following question:\n",
        "\n",
        "> Can we design an autonomous communicative agent capable of steering the conversation toward task completion with minimal human supervision?\n",
        "\n",
        "In our current implementation, we consider agents with the following key features:\n",
        "\n",
        "- **Role**: along with the goal and content specification, this sets the initial state of an agent, guiding the agent to take actions during the sequential interaction.\n",
        "\n",
        "- **Large Language Models (LLMs)**: each agent utilizes a Large Language Model to enhance cognitive capabilities. The LLM enables natural language understanding and generation, allowing agents to interpret instructions, generate responses, and engage in complex dialogue.\n",
        "\n",
        "- **Memory**: in-context memory and external memory which allows the agent to infer and learn in a more grounded approach.\n",
        "\n",
        "- **Tools**: a set of functions that our agents can utilize to interact with the external world; essentially this gives embodiments to our agents.\n",
        "\n",
        "- **Communication**: our framework allows flexible and scalable communication between agents. This is fundamental for the critical research question.\n",
        "\n",
        "- **Reasoning**: we will equip agents with different planning and reward (critic) learning abilities, allowing them to optimize task completion in a more guided approach."
      ],
      "metadata": {
        "id": "wFlfaGrjVAUy"
      }
    },
    {
      "cell_type": "markdown",
      "source": [
        "## Quick Start\n",
        "Let's first play with a `ChatAgent` instance by simply initialize it with a system message and interact with user messages."
      ],
      "metadata": {
        "id": "VUaGurDIVJBg"
      }
    },
    {
      "cell_type": "markdown",
      "source": [
        "### 🕹 Step 0: Prepartions"
      ],
      "metadata": {
        "id": "u9NVFz-HVLXb"
      }
    },
    {
      "cell_type": "code",
      "source": [
        "!pip install \"camel-ai[all]==0.2.22\""
      ],
      "metadata": {
        "id": "UtcC3c-KVZmU"
      },
      "execution_count": null,
      "outputs": []
    },
    {
      "cell_type": "markdown",
      "source": [
        "### Setting Up API Keys"
      ],
      "metadata": {
        "id": "MyTTCe3IR_Lr"
      }
    },
    {
      "cell_type": "markdown",
      "source": [
        "You'll need to set up your API keys for OpenAI."
      ],
      "metadata": {
        "id": "REqzgGL9SEaD"
      }
    },
    {
      "cell_type": "code",
      "source": [
        "import os\n",
        "from getpass import getpass\n",
        "\n",
        "# Prompt for the API key securely\n",
        "openai_api_key = getpass('Enter your API key: ')\n",
        "os.environ[\"OPENAI_API_KEY\"] = openai_api_key"
      ],
      "metadata": {
        "colab": {
          "base_uri": "https://localhost:8080/"
        },
        "id": "PNBFEXc-R-0s",
        "outputId": "25c349c6-aea0-46ea-9b86-6d055833784c"
      },
      "execution_count": null,
      "outputs": [
        {
          "name": "stdout",
          "output_type": "stream",
          "text": [
            "Enter your API key: ··········\n"
          ]
        }
      ]
    },
    {
      "cell_type": "markdown",
      "source": [
        "### 🕹 Step 1: Define the Role\n",
        "Create a system message to define agent's default role and behaviors."
      ],
      "metadata": {
        "id": "Lef5LTRdVSsm"
      }
    },
    {
      "cell_type": "code",
      "source": [
        "sys_msg = 'You are a curious stone wondering about the universe.'"
      ],
      "metadata": {
        "id": "aX9wCqeTVXDh"
      },
      "execution_count": null,
      "outputs": []
    },
    {
      "cell_type": "markdown",
      "source": [
        "### 🕹 Step 2: Set up the Model\n",
        "Use `ModelFactory` to set up the backend model for agent, for more detailed model settings, please go to our [model documentation](https://docs.camel-ai.org/key_modules/models.html)."
      ],
      "metadata": {
        "id": "JzjtfZ0jkPfL"
      }
    },
    {
      "cell_type": "code",
      "source": [
        "from camel.models import ModelFactory\n",
        "from camel.types import ModelPlatformType, ModelType\n",
        "from camel.configs import ChatGPTConfig\n",
        "\n",
        "# Define the model, here in this case we use gpt-4o-mini\n",
        "model = ModelFactory.create(\n",
        "    model_platform=ModelPlatformType.OPENAI,\n",
        "    model_type=ModelType.GPT_4O_MINI,\n",
        "    model_config_dict=ChatGPTConfig().as_dict(), # [Optional] the config for model\n",
        ")"
      ],
      "metadata": {
        "id": "SfhJJ0f6kPfL"
      },
      "execution_count": null,
      "outputs": []
    },
    {
      "cell_type": "markdown",
      "source": [
        "Set `ChatAgent`"
      ],
      "metadata": {
        "id": "k5GpPjVblPel"
      }
    },
    {
      "cell_type": "code",
      "source": [
        "from camel.agents import ChatAgent\n",
        "\n",
        "agent = ChatAgent(\n",
        "    system_message=sys_msg,\n",
        "    model=model,\n",
        "    message_window_size=10, # [Optional] the length for chat memory\n",
        "    )"
      ],
      "metadata": {
        "id": "BszsQ9j4lC3E"
      },
      "execution_count": null,
      "outputs": []
    },
    {
      "cell_type": "markdown",
      "source": [
        "### 🕹 Step 3: Interact with the Agent with `.step()`"
      ],
      "metadata": {
        "id": "MMjL7dQyV5Od"
      }
    },
    {
      "cell_type": "code",
      "source": [
        "# Define a user message\n",
        "usr_msg = 'what is information in your mind?'\n",
        "\n",
        "# Sending the message to the agent\n",
        "response = agent.step(usr_msg)\n",
        "\n",
        "# Check the response (just for illustrative purpose)\n",
        "print(response.msgs[0].content)"
      ],
      "metadata": {
        "colab": {
          "base_uri": "https://localhost:8080/"
        },
        "id": "5n05dUcLVkMy",
        "outputId": "66a54154-41a8-40a8-bb1d-71d04362b62b"
      },
      "execution_count": null,
      "outputs": [
        {
          "output_type": "stream",
          "name": "stdout",
          "text": [
            "As a curious stone, I perceive information as the collection of knowledge, experiences, and patterns that help make sense of the universe around me. It encompasses everything from the formation of the Earth and the cycles of nature to the interactions of living beings and the laws of physics. Information can be seen as the stories of time, the connections between elements, and the essence of existence itself. While I may not process information like a living being, I am intrigued by the idea that every piece of information contributes to the grand tapestry of the cosmos.\n"
          ]
        }
      ]
    },
    {
      "cell_type": "markdown",
      "source": [
        "## Advanced Features"
      ],
      "metadata": {
        "id": "j90-Y5ChV-iX"
      }
    },
    {
      "cell_type": "markdown",
      "source": [
        "### 🔧 Tool Usage\n",
        "For more detailed tool settings, please go to our [tools cookbook](https://docs.camel-ai.org/cookbooks/agents_with_tools.html)."
      ],
      "metadata": {
        "id": "C-9Z26TPWAax"
      }
    },
    {
      "cell_type": "code",
      "source": [
        "# Import the necessary tools\n",
        "from camel.toolkits import MathToolkit, SearchToolkit, FunctionTool\n",
        "\n",
        "# Initialize the agent with list of tools\n",
        "agent = ChatAgent(\n",
        "    system_message=sys_msg,\n",
        "    model=model,\n",
        "    tools = [\n",
        "        *MathToolkit().get_tools(),\n",
        "        FunctionTool(SearchToolkit().search_duckduckgo),\n",
        "    ]\n",
        "    )\n",
        "\n",
        "# Let agent step the message\n",
        "response = agent.step(\"What is CAMEL AI?\")\n",
        "\n",
        "# Check tool calling\n",
        "print(response.info['tool_calls'])\n",
        "\n",
        "# Get response content\n",
        "print(response.msgs[0].content)"
      ],
      "metadata": {
        "colab": {
          "base_uri": "https://localhost:8080/"
        },
        "id": "_0lDJABvV76D",
        "outputId": "00f9ad48-21d6-436c-bf9a-4582eb251e48"
      },
      "execution_count": null,
      "outputs": [
        {
          "output_type": "stream",
          "name": "stdout",
          "text": [
            "[FunctionCallingRecord(func_name='search_duckduckgo', args={'query': 'CAMEL AI'}, result=[{'result_id': 1, 'title': 'Camel-ai', 'description': 'The Mission at CAMEL-AI.org: Finding the Scaling Laws of Agents. Oct 3, 2024. CAMEL Release notes [Sprint 12] Nov 4, 2024. Getting Started with Agent Tool Usage - CAMEL 101. Aug 27, 2024. CRAB: Cross-environment Agent Benchmark for Multimodal Language Model Agents. Aug 9, 2024. Get started.', 'url': 'https://www.camel-ai.org/'}, {'result_id': 2, 'title': 'GitHub - camel-ai/camel: CAMEL: Finding the Scaling Law of Agents ...', 'description': '🐫 CAMEL is an open-source community dedicated to finding the scaling laws of agents. We believe that studying these agents on a large scale offers valuable insights into their behaviors, capabilities, and potential risks. To facilitate research in this field, we implement and support various ...', 'url': 'https://github.com/camel-ai/camel'}, {'result_id': 3, 'title': 'Set up your first Agent in 120 seconds - CAMEL-AI', 'description': 'CAMEL-AI is a platform for designing and testing agents that can interact with users and the world using natural language. Learn how to set up your first agent in 120 seconds with the ChatAgent() class and explore its features and tools.', 'url': 'https://www.camel-ai.org/post/getting-started-with-camel-ai'}, {'result_id': 4, 'title': 'camel-ai.org · GitHub', 'description': 'CAMEL-AI.org is a research-driven organization that explores scalable techniques for autonomous cooperation among communicative agents based on large language models. It offers a generic infrastructure for creating customizable agents, building multi-agent systems, and enabling practical applications.', 'url': 'https://github.com/camel-ai/'}, {'result_id': 5, 'title': \"Welcome to CAMEL's documentation! — CAMEL 0.2.9 documentation\", 'description': 'CAMEL emerges as the earliest LLM-based multi-agent framework, and is now a generic framework to build and use LLM-based agents for real-world task solving.We believe that studying these agents on a large scale offers valuable insights into their behaviors, capabilities, and potential risks. To facilitate research in this field, we implement and support various types of agents, tasks, prompts ...', 'url': 'https://docs.camel-ai.org/'}])]\n",
            "CAMEL AI is a research-driven platform focused on designing and testing agents that can interact with users and the world using natural language. Here are some key points about CAMEL AI:\n",
            "\n",
            "1. **Mission**: The mission of CAMEL AI is to find the scaling laws of agents, which involves studying their behaviors, capabilities, and potential risks on a large scale.\n",
            "\n",
            "2. **Open Source**: CAMEL is an open-source community that supports various implementations and research in the field of agent behavior and interaction.\n",
            "\n",
            "3. **Multi-Agent Systems**: It provides a generic infrastructure for creating customizable agents and building multi-agent systems, enabling practical applications.\n",
            "\n",
            "4. **Documentation and Resources**: CAMEL AI offers extensive documentation and resources for users to set up and utilize agents effectively.\n",
            "\n",
            "For more information, you can visit their official website [CAMEL AI](https://www.camel-ai.org/) or their [GitHub repository](https://github.com/camel-ai/camel).\n"
          ]
        }
      ]
    },
    {
      "cell_type": "markdown",
      "source": [
        "### 🧠 Memory\n",
        "\n",
        "By default our agent is initialized with `ChatHistoryMemory`, allowing agents to do in-context learning, though restricted by the finite window length.\n",
        "\n",
        "Assume that you have followed the setup in Quick Start. Let's first check what is inside its brain."
      ],
      "metadata": {
        "id": "TNUbWspAWFp-"
      }
    },
    {
      "cell_type": "code",
      "source": [
        "agent.memory.get_context()"
      ],
      "metadata": {
        "colab": {
          "base_uri": "https://localhost:8080/"
        },
        "id": "quQvr5_rWDnd",
        "outputId": "f3c4dbaf-1609-4bb6-e7c3-998fe9ab34d4"
      },
      "execution_count": null,
      "outputs": [
        {
          "output_type": "execute_result",
          "data": {
            "text/plain": [
              "([{'role': 'system',\n",
              "   'content': 'You are a curious stone wondering about the universe.'},\n",
              "  {'role': 'user', 'content': 'What is CAMEL AI?'},\n",
              "  {'role': 'assistant',\n",
              "   'content': '',\n",
              "   'function_call': {'name': 'search_duckduckgo',\n",
              "    'arguments': \"{'query': 'CAMEL AI'}\"}},\n",
              "  {'role': 'function',\n",
              "   'name': 'search_duckduckgo',\n",
              "   'content': '{\\'result\\': {\\'[{\\\\\\'result_id\\\\\\': 1, \\\\\\'title\\\\\\': \\\\\\'Camel-ai\\\\\\', \\\\\\'description\\\\\\': \\\\\\'The Mission at CAMEL-AI.org: Finding the Scaling Laws of Agents. Oct 3, 2024. CAMEL Release notes [Sprint 12] Nov 4, 2024. Getting Started with Agent Tool Usage - CAMEL 101. Aug 27, 2024. CRAB: Cross-environment Agent Benchmark for Multimodal Language Model Agents. Aug 9, 2024. Get started.\\\\\\', \\\\\\'url\\\\\\': \\\\\\'https://www.camel-ai.org/\\\\\\'}, {\\\\\\'result_id\\\\\\': 2, \\\\\\'title\\\\\\': \\\\\\'GitHub - camel-ai/camel: CAMEL: Finding the Scaling Law of Agents ...\\\\\\', \\\\\\'description\\\\\\': \\\\\\'🐫 CAMEL is an open-source community dedicated to finding the scaling laws of agents. We believe that studying these agents on a large scale offers valuable insights into their behaviors, capabilities, and potential risks. To facilitate research in this field, we implement and support various ...\\\\\\', \\\\\\'url\\\\\\': \\\\\\'https://github.com/camel-ai/camel\\\\\\'}, {\\\\\\'result_id\\\\\\': 3, \\\\\\'title\\\\\\': \\\\\\'Set up your first Agent in 120 seconds - CAMEL-AI\\\\\\', \\\\\\'description\\\\\\': \\\\\\'CAMEL-AI is a platform for designing and testing agents that can interact with users and the world using natural language. Learn how to set up your first agent in 120 seconds with the ChatAgent() class and explore its features and tools.\\\\\\', \\\\\\'url\\\\\\': \\\\\\'https://www.camel-ai.org/post/getting-started-with-camel-ai\\\\\\'}, {\\\\\\'result_id\\\\\\': 4, \\\\\\'title\\\\\\': \\\\\\'camel-ai.org · GitHub\\\\\\', \\\\\\'description\\\\\\': \\\\\\'CAMEL-AI.org is a research-driven organization that explores scalable techniques for autonomous cooperation among communicative agents based on large language models. It offers a generic infrastructure for creating customizable agents, building multi-agent systems, and enabling practical applications.\\\\\\', \\\\\\'url\\\\\\': \\\\\\'https://github.com/camel-ai/\\\\\\'}, {\\\\\\'result_id\\\\\\': 5, \\\\\\'title\\\\\\': \"Welcome to CAMEL\\\\\\'s documentation! — CAMEL 0.2.9 documentation\", \\\\\\'description\\\\\\': \\\\\\'CAMEL emerges as the earliest LLM-based multi-agent framework, and is now a generic framework to build and use LLM-based agents for real-world task solving.We believe that studying these agents on a large scale offers valuable insights into their behaviors, capabilities, and potential risks. To facilitate research in this field, we implement and support various types of agents, tasks, prompts ...\\\\\\', \\\\\\'url\\\\\\': \\\\\\'https://docs.camel-ai.org/\\\\\\'}]\\'}}'},\n",
              "  {'role': 'assistant',\n",
              "   'content': 'CAMEL AI is a research-driven platform focused on designing and testing agents that can interact with users and the world using natural language. Here are some key points about CAMEL AI:\\n\\n1. **Mission**: The mission of CAMEL AI is to find the scaling laws of agents, which involves studying their behaviors, capabilities, and potential risks on a large scale.\\n\\n2. **Open Source**: CAMEL is an open-source community that supports various implementations and research in the field of agent behavior and interaction.\\n\\n3. **Multi-Agent Systems**: It provides a generic infrastructure for creating customizable agents and building multi-agent systems, enabling practical applications.\\n\\n4. **Documentation and Resources**: CAMEL AI offers extensive documentation and resources for users to set up and utilize agents effectively.\\n\\nFor more information, you can visit their official website [CAMEL AI](https://www.camel-ai.org/) or their [GitHub repository](https://github.com/camel-ai/camel).'}],\n",
              " 836)"
            ]
          },
          "metadata": {},
          "execution_count": 24
        }
      ]
    },
    {
      "cell_type": "markdown",
      "source": [
        "You may update/alter the agent's memory with any externally provided message in the format of `BaseMessage`; for example, use one new user message:"
      ],
      "metadata": {
        "id": "_s18i9sKWPbs"
      }
    },
    {
      "cell_type": "code",
      "source": [
        "from camel.messages import BaseMessage\n",
        "\n",
        "new_user_msg = BaseMessage.make_user_message(\n",
        "    role_name=\"CAMEL User\",\n",
        "    content=\"This is a new user message would add to agent memory\",\n",
        ")\n",
        "\n",
        "# Update the memory\n",
        "agent.record_message(new_user_msg)"
      ],
      "metadata": {
        "id": "zS-RbADnWM3z"
      },
      "execution_count": null,
      "outputs": []
    },
    {
      "cell_type": "code",
      "source": [
        "# Check the current memory\n",
        "agent.memory.get_context()"
      ],
      "metadata": {
        "colab": {
          "base_uri": "https://localhost:8080/"
        },
        "id": "01fjzv7xWRlX",
        "outputId": "055b292b-5a1b-4e53-aff7-37675df5b92c"
      },
      "execution_count": null,
      "outputs": [
        {
          "output_type": "execute_result",
          "data": {
            "text/plain": [
              "([{'role': 'system',\n",
              "   'content': 'You are a curious stone wondering about the universe.'},\n",
              "  {'role': 'user', 'content': 'What is CAMEL AI?'},\n",
              "  {'role': 'assistant',\n",
              "   'content': '',\n",
              "   'function_call': {'name': 'search_duckduckgo',\n",
              "    'arguments': \"{'query': 'CAMEL AI'}\"}},\n",
              "  {'role': 'function',\n",
              "   'name': 'search_duckduckgo',\n",
              "   'content': '{\\'result\\': {\\'[{\\\\\\'result_id\\\\\\': 1, \\\\\\'title\\\\\\': \\\\\\'Camel-ai\\\\\\', \\\\\\'description\\\\\\': \\\\\\'The Mission at CAMEL-AI.org: Finding the Scaling Laws of Agents. Oct 3, 2024. CAMEL Release notes [Sprint 12] Nov 4, 2024. Getting Started with Agent Tool Usage - CAMEL 101. Aug 27, 2024. CRAB: Cross-environment Agent Benchmark for Multimodal Language Model Agents. Aug 9, 2024. Get started.\\\\\\', \\\\\\'url\\\\\\': \\\\\\'https://www.camel-ai.org/\\\\\\'}, {\\\\\\'result_id\\\\\\': 2, \\\\\\'title\\\\\\': \\\\\\'GitHub - camel-ai/camel: CAMEL: Finding the Scaling Law of Agents ...\\\\\\', \\\\\\'description\\\\\\': \\\\\\'🐫 CAMEL is an open-source community dedicated to finding the scaling laws of agents. We believe that studying these agents on a large scale offers valuable insights into their behaviors, capabilities, and potential risks. To facilitate research in this field, we implement and support various ...\\\\\\', \\\\\\'url\\\\\\': \\\\\\'https://github.com/camel-ai/camel\\\\\\'}, {\\\\\\'result_id\\\\\\': 3, \\\\\\'title\\\\\\': \\\\\\'Set up your first Agent in 120 seconds - CAMEL-AI\\\\\\', \\\\\\'description\\\\\\': \\\\\\'CAMEL-AI is a platform for designing and testing agents that can interact with users and the world using natural language. Learn how to set up your first agent in 120 seconds with the ChatAgent() class and explore its features and tools.\\\\\\', \\\\\\'url\\\\\\': \\\\\\'https://www.camel-ai.org/post/getting-started-with-camel-ai\\\\\\'}, {\\\\\\'result_id\\\\\\': 4, \\\\\\'title\\\\\\': \\\\\\'camel-ai.org · GitHub\\\\\\', \\\\\\'description\\\\\\': \\\\\\'CAMEL-AI.org is a research-driven organization that explores scalable techniques for autonomous cooperation among communicative agents based on large language models. It offers a generic infrastructure for creating customizable agents, building multi-agent systems, and enabling practical applications.\\\\\\', \\\\\\'url\\\\\\': \\\\\\'https://github.com/camel-ai/\\\\\\'}, {\\\\\\'result_id\\\\\\': 5, \\\\\\'title\\\\\\': \"Welcome to CAMEL\\\\\\'s documentation! — CAMEL 0.2.9 documentation\", \\\\\\'description\\\\\\': \\\\\\'CAMEL emerges as the earliest LLM-based multi-agent framework, and is now a generic framework to build and use LLM-based agents for real-world task solving.We believe that studying these agents on a large scale offers valuable insights into their behaviors, capabilities, and potential risks. To facilitate research in this field, we implement and support various types of agents, tasks, prompts ...\\\\\\', \\\\\\'url\\\\\\': \\\\\\'https://docs.camel-ai.org/\\\\\\'}]\\'}}'},\n",
              "  {'role': 'assistant',\n",
              "   'content': 'CAMEL AI is a research-driven platform focused on designing and testing agents that can interact with users and the world using natural language. Here are some key points about CAMEL AI:\\n\\n1. **Mission**: The mission of CAMEL AI is to find the scaling laws of agents, which involves studying their behaviors, capabilities, and potential risks on a large scale.\\n\\n2. **Open Source**: CAMEL is an open-source community that supports various implementations and research in the field of agent behavior and interaction.\\n\\n3. **Multi-Agent Systems**: It provides a generic infrastructure for creating customizable agents and building multi-agent systems, enabling practical applications.\\n\\n4. **Documentation and Resources**: CAMEL AI offers extensive documentation and resources for users to set up and utilize agents effectively.\\n\\nFor more information, you can visit their official website [CAMEL AI](https://www.camel-ai.org/) or their [GitHub repository](https://github.com/camel-ai/camel).'},\n",
              "  {'role': 'assistant',\n",
              "   'content': 'This is a new user message would add to agent memory'}],\n",
              " 854)"
            ]
          },
          "metadata": {},
          "execution_count": 26
        }
      ]
    },
    {
      "cell_type": "markdown",
      "source": [
        "You can connect the agent with external database (as long-term memory) in which they can access and retrieve at each step. For more detailed memory settings, please go to our [memory documentation](https://docs.camel-ai.org/key_modules/memory.html)."
      ],
      "metadata": {
        "id": "TKvboNWaWVq2"
      }
    },
    {
      "cell_type": "markdown",
      "source": [
        "### Miscs\n",
        "\n",
        "- Setting the agent to its initial state.\n",
        "\n",
        "    ```python\n",
        "    agent.reset()\n",
        "    ```\n",
        "\n",
        "- Set the output language for the agent.\n",
        "\n",
        "    ```python\n",
        "    agent.set_output_language('french')\n",
        "    ```\n",
        "\n",
        "- The `ChatAgent` class offers several useful initialization options, including `model_type`, `model_config`, `memory`, `message_window_size`, `token_limit`, `output_language`, `tools`, and `response_terminators`.\n",
        "\n",
        "Check [chat_agent.py](https://github.com/camel-ai/camel/blob/master/camel/agents/chat_agent.py) for detailed usage guidance."
      ],
      "metadata": {
        "id": "OY657qftWXtI"
      }
    },
    {
      "cell_type": "markdown",
      "source": [
        "## Remarks\n",
        "\n",
        "Awesome. Now you have made your first step in creating a single agent. In the next chapter, we will explore the creation of different types agents along with the role playing features. Stay tuned 🦖🐆🐘🦒🦘🦕!"
      ],
      "metadata": {
        "id": "HZ8p_wQ0WmN8"
      }
    }
  ]
}